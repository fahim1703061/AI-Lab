{
 "cells": [
  {
   "cell_type": "code",
   "execution_count": 1,
   "metadata": {},
   "outputs": [
    {
     "name": "stdout",
     "output_type": "stream",
     "text": [
      "Expanded nodes:  S A B C D E F G \n",
      "Goal node found\n"
     ]
    }
   ],
   "source": [
    "from queue import PriorityQueue\n",
    "q  = PriorityQueue()\n",
    "def bfs(graph, s, g):\n",
    "    q.put(s)\n",
    "    print(\"Expanded nodes: \" , end =\" \")\n",
    "    while not q.empty():\n",
    "        now = q.get()\n",
    "        print(now,end= \" \")\n",
    "        if now == g:\n",
    "            return 1\n",
    "        for i in graph[now]:\n",
    "            q.put(i)\n",
    "\n",
    "\n",
    "graph = {\n",
    "    'S' : ['A','B','C'] ,\n",
    "    'A' : ['D' , 'E'] ,\n",
    "    'B' : ['G'] ,\n",
    "    'C' : ['F'] ,\n",
    "    'D' : ['H'] ,\n",
    "    'E' : ['G'] ,\n",
    "    'G' : [] ,\n",
    "    'F' : ['G'],\n",
    "    'H' : []         \n",
    "}\n",
    "\n",
    "ans = bfs(graph,'S' ,'G')\n",
    "if ans == 1:\n",
    "    print(\"\\nGoal node found\") ;\n",
    "else:\n",
    "    print(\"\\nGoal node not found\")"
   ]
  },
  {
   "cell_type": "code",
   "execution_count": 41,
   "metadata": {},
   "outputs": [
    {
     "name": "stdout",
     "output_type": "stream",
     "text": [
      "{'S': [('A', 1), ('B', 5), ('C', 8)], 'C': [('D', 8)], 'B': [('G', 4)], 'A': [], 'D': [('G', 5)], 'G': []}\n",
      "{'S': ['S', 0], 'A': ['S', 0], 'B': ['S', 0], 'C': ['S', 0], 'D': ['S', 0], 'G': ['S', 0]}\n",
      "tested node:  <queue.Queue object at 0x000001BCCF4371C0>\n",
      "S <queue.Queue object at 0x000001BCCF4371C0>\n",
      "A <queue.Queue object at 0x000001BCCF4371C0>\n",
      "B <queue.Queue object at 0x000001BCCF4371C0>\n",
      "C <queue.Queue object at 0x000001BCCF4371C0>\n",
      "G  \n",
      "Goal is found. Path Cost= 9\n",
      "path: G<- B<- S"
     ]
    }
   ],
   "source": [
    "from queue import Queue\n",
    "\n",
    "graph = {\n",
    "    'S' : [('A',1), ('B', 5), ('C',8)],\n",
    "    'C' : [('D',8)],\n",
    "    \n",
    "    'B' : [('G',4)],\n",
    "    'A' : [],\n",
    "    'D' : [('G',5)],\n",
    "    'G' : [],\n",
    "}\n",
    "\n",
    "graph_cost = {\n",
    "    'S' : ['S', 0],\n",
    "    'A' : ['S', 0],\n",
    "    'B' : ['S', 0],\n",
    "    'C' : ['S', 0],\n",
    "    'D' : ['S', 0],\n",
    "    'G' : ['S', 0],\n",
    "}\n",
    "\n",
    "print(graph)\n",
    "print(graph_cost)\n",
    "\n",
    "\n",
    "q = Queue()\n",
    "\n",
    "\n",
    "def bfs(s, g):\n",
    "    q.put(s)\n",
    "    print(\"tested node: \", end=\" \")\n",
    "    while not q.empty():\n",
    "        t = q.get();\n",
    "        print(q)\n",
    "        print(t, end=\" \")\n",
    "        if t == g:\n",
    "            return 1\n",
    "        \n",
    "        for i in graph[t]:\n",
    "            q.put(i[0])\n",
    "            graph_cost[i[0]][1] = graph_cost[t][1] + i[1]  #cost\n",
    "            graph_cost[i[0]][0] = t  #parent\n",
    "#             if[i[0]] == 'G':\n",
    "#                 break\n",
    "            \n",
    "            \n",
    "    return 0\n",
    "\n",
    "ans = bfs('S','G')\n",
    "print(\" \")\n",
    "if ans == 1:\n",
    "    print(\"Goal is found. Path Cost=\",graph_cost['G'][1])\n",
    "    print(\"path: G\", end=\"\")\n",
    "    p='G'\n",
    "    while p!='S':\n",
    "        p=graph_cost[p][0]\n",
    "        print(\"<-\",p,end=\"\")\n",
    "        \n",
    "else:\n",
    "    print(\"Goal is not found\")"
   ]
  },
  {
   "cell_type": "code",
   "execution_count": null,
   "metadata": {},
   "outputs": [],
   "source": []
  }
 ],
 "metadata": {
  "kernelspec": {
   "display_name": "Python 3",
   "language": "python",
   "name": "python3"
  },
  "language_info": {
   "codemirror_mode": {
    "name": "ipython",
    "version": 3
   },
   "file_extension": ".py",
   "mimetype": "text/x-python",
   "name": "python",
   "nbconvert_exporter": "python",
   "pygments_lexer": "ipython3",
   "version": "3.8.5"
  }
 },
 "nbformat": 4,
 "nbformat_minor": 4
}
