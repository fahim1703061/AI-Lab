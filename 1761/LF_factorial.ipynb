{
 "cells": [
  {
   "cell_type": "code",
   "execution_count": 1,
   "metadata": {},
   "outputs": [
    {
     "name": "stdout",
     "output_type": "stream",
     "text": [
      "Give a number5\n",
      "factorial is 120\n"
     ]
    }
   ],
   "source": [
    "num=int(input(\"Give a number\"))\n",
    "\n",
    "fact = 1\n",
    "\n",
    "if num <0:\n",
    "    print(\"Invalid\")\n",
    "elif num == 0:\n",
    "    print(\"factorial is\",fact)\n",
    "else:\n",
    "    for i in range(1,num + 1):\n",
    "        fact *= i\n",
    "    print(\"factorial is\",fact)"
   ]
  },
  {
   "cell_type": "code",
   "execution_count": null,
   "metadata": {},
   "outputs": [],
   "source": []
  }
 ],
 "metadata": {
  "kernelspec": {
   "display_name": "Python 3",
   "language": "python",
   "name": "python3"
  },
  "language_info": {
   "codemirror_mode": {
    "name": "ipython",
    "version": 3
   },
   "file_extension": ".py",
   "mimetype": "text/x-python",
   "name": "python",
   "nbconvert_exporter": "python",
   "pygments_lexer": "ipython3",
   "version": "3.8.5"
  }
 },
 "nbformat": 4,
 "nbformat_minor": 4
}
