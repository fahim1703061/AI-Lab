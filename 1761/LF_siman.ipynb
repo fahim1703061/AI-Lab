{
 "cells": [
  {
   "cell_type": "code",
   "execution_count": null,
   "metadata": {},
   "outputs": [],
   "source": [
    "import random\n",
    "import math\n",
    "\n",
    "def simulated_annealing(initial_state):\n",
    "    \"\"\"Peforms simulated annealing to find a solution\"\"\"\n",
    "    initial_temp = 90\n",
    "    final_temp = .1\n",
    "    alpha = 0.01\n",
    "    \n",
    "    current_temp = initial_temp\n",
    "\n",
    "    # Start by initializing the current state with the initial state\n",
    "    current_state = initial_state\n",
    "    solution = current_state\n",
    "\n",
    "    while current_temp > final_temp:\n",
    "        neighbor = random.choice(get_neighbors())\n",
    "\n",
    "        # Check if neighbor is best so far\n",
    "        cost_diff = get_cost(self.current_state) - get_cost(neighbor)\n",
    "\n",
    "        # if the new solution is better, accept it\n",
    "        if cost_diff > 0:\n",
    "            solution = neighbor\n",
    "        # if the new solution is not better, accept it with a probability of e^(-cost/temp)\n",
    "        else:\n",
    "            if random.uniform(0, 1) < math.exp(-cost_diff / current_temp):\n",
    "                solution = neighbor\n",
    "        # decrement the temperature\n",
    "        current_temp -= alpha\n",
    "\n",
    "    return solution\n",
    "\n",
    "def get_cost(state):\n",
    "    \"\"\"Calculates cost of the argument state for your solution.\"\"\"\n",
    "    raise NotImplementedError\n",
    "    \n",
    "def get_neighbors(state):\n",
    "    \"\"\"Returns neighbors of the argument state for your solution.\"\"\"\n",
    "    raise NotImplementedError\n",
    "    \n",
    "    \n",
    "setimulated_annealing()"
   ]
  }
 ],
 "metadata": {
  "kernelspec": {
   "display_name": "Python 3",
   "language": "python",
   "name": "python3"
  },
  "language_info": {
   "codemirror_mode": {
    "name": "ipython",
    "version": 3
   },
   "file_extension": ".py",
   "mimetype": "text/x-python",
   "name": "python",
   "nbconvert_exporter": "python",
   "pygments_lexer": "ipython3",
   "version": "3.8.5"
  }
 },
 "nbformat": 4,
 "nbformat_minor": 4
}
