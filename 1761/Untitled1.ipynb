{
 "cells": [
  {
   "cell_type": "code",
   "execution_count": 8,
   "metadata": {},
   "outputs": [
    {
     "name": "stdout",
     "output_type": "stream",
     "text": [
      "{'pam': {'parent': [], 'child': ['bob']}, 'tom': {'parent': [], 'child': ['bob', 'liz']}, 'bob': {'parent': ['pam', 'tom'], 'child': ['aim', 'pat']}, 'aim': {'parent': ['bob'], 'child': []}, 'pat': {'parent': ['bob'], 'child': ['jim']}, 'jim': {'parent': [], 'child': []}, 'liz': {'parent': [], 'child': []}}\n"
     ]
    }
   ],
   "source": [
    "tree = {\n",
    "    \"pam\":{\n",
    "        \n",
    "        \"parent\": [],\n",
    "        \"child\": [\"bob\"],\n",
    "    },\n",
    "    \"tom\":{\n",
    "        \"parent\": [],\n",
    "        \"child\": [\"bob\",\"liz\"],\n",
    "    },\n",
    "    \"bob\":{\n",
    "        \"parent\": [\"pam\",\"tom\"],\n",
    "        \"child\": [\"aim\",\"pat\"],\n",
    "    },\n",
    "    \"aim\":{\n",
    "        \"parent\": [\"bob\"],\n",
    "        \"child\": [],\n",
    "    },\n",
    "    \"pat\": {\n",
    "        \"parent\": [\"bob\"],\n",
    "        \"child\": [\"jim\"],\n",
    "    },\n",
    "    \"jim\": {\n",
    "        \"parent\": [],\n",
    "        \"child\": [],\n",
    "    },\n",
    "    \"liz\":{\n",
    "        \"parent\": [],\n",
    "        \"child\": [],\n",
    "    },\n",
    "}\n",
    "\n",
    "print(tree)\n"
   ]
  },
  {
   "cell_type": "code",
   "execution_count": 9,
   "metadata": {},
   "outputs": [
    {
     "name": "stdout",
     "output_type": "stream",
     "text": [
      "pam : ['bob']\n",
      "pam is parent of bob\n",
      "tom : ['bob', 'liz']\n",
      "tom is parent of liz\n",
      "bob : ['aim', 'pat']\n",
      "bob is parent of aim\n",
      "bob : ['aim', 'pat']\n",
      "bob is parent of pat\n",
      "bob : ['aim', 'pat']\n",
      "bob is not parent of jim\n",
      "tom : ['bob', 'liz']\n",
      "tom is not parent of k\n"
     ]
    }
   ],
   "source": [
    "def parent(par,child):\n",
    "#     arr = list(tree.get(([par][\"child\"]),10))\n",
    "    arr = list(tree[par][\"child\"])\n",
    "#     if(arr == 10):\n",
    "#         print(\"Invalid input\")\n",
    "#         return\n",
    "    print(par, \":\", arr)\n",
    "    test = False\n",
    "    for ppl in arr:\n",
    "        if ppl == child:\n",
    "            test = True\n",
    "            print(par, \"is parent of\", child)\n",
    "            return\n",
    "        \n",
    "    print(par, \"is not parent of\", child)\n",
    "    \n",
    "    \n",
    "parent(\"pam\", \"bob\")\n",
    "parent(\"tom\", \"liz\")\n",
    "# parent(\"k\", \"liz\")\n",
    "parent(\"bob\", \"aim\")\n",
    "parent(\"bob\", \"pat\")\n",
    "parent(\"bob\", \"jim\")\n",
    "parent(\"tom\", \"k\")\n",
    "    "
   ]
  },
  {
   "cell_type": "code",
   "execution_count": 12,
   "metadata": {},
   "outputs": [
    {
     "name": "stdout",
     "output_type": "stream",
     "text": [
      "Children of tom:  ['bob', 'liz']\n",
      "Grandchildren of tom: ['aim', 'pat']\n",
      "Children of bob:  ['aim', 'pat']\n",
      "Grandchildren of bob: ['jim']\n"
     ]
    }
   ],
   "source": [
    "childs =[]\n",
    "childsofchilds=[]\n",
    "\n",
    "def parent(par,child):\n",
    "    \n",
    "    if(par == \"X\" and child == \"Y\"):\n",
    "        childsofchilds.clear()\n",
    "        for i in childs:\n",
    "            arr = (list(tree[i][\"child\"]))\n",
    "            for j in arr:\n",
    "                childsofchilds.append(j)\n",
    "#         childs = arr\n",
    "        return\n",
    "    if(child == \"X\"):\n",
    "        childs.clear()\n",
    "        arr = (list(tree[par][\"child\"]))\n",
    "        for i in arr:\n",
    "            childs.append(i)\n",
    "#         childs = arr\n",
    "        return\n",
    "    \n",
    "    arr = list(tree[par][\"child\"])\n",
    "#     if(arr == 10):\n",
    "#         print(\"Invalid input\")\n",
    "#         return\n",
    "    print(par, \":\", arr)\n",
    "    test = False\n",
    "    for ppl in arr:\n",
    "        if ppl == child:\n",
    "            test = True\n",
    "            print(par, \"is parent of\", child)\n",
    "            return\n",
    "        \n",
    "    print(par, \"is not parent of\", child)\n",
    "    \n",
    "parent(\"tom\", \"X\")\n",
    "parent(\"X\", \"Y\")\n",
    "\n",
    "print(\"Children of tom: \",childs)\n",
    "print(\"Grandchildren of tom:\", childsofchilds)\n",
    "\n",
    "parent(\"bob\", \"X\")\n",
    "parent(\"X\", \"Y\")\n",
    "\n",
    "print(\"Children of bob: \",childs)\n",
    "print(\"Grandchildren of bob:\", childsofchilds)"
   ]
  },
  {
   "cell_type": "code",
   "execution_count": 11,
   "metadata": {},
   "outputs": [
    {
     "ename": "TypeError",
     "evalue": "unhashable type: 'list'",
     "output_type": "error",
     "traceback": [
      "\u001b[1;31m---------------------------------------------------------------------------\u001b[0m",
      "\u001b[1;31mTypeError\u001b[0m                                 Traceback (most recent call last)",
      "\u001b[1;32m<ipython-input-11-810886a4c74e>\u001b[0m in \u001b[0;36m<module>\u001b[1;34m\u001b[0m\n\u001b[0;32m     16\u001b[0m \u001b[1;33m\u001b[0m\u001b[0m\n\u001b[0;32m     17\u001b[0m \u001b[1;33m\u001b[0m\u001b[0m\n\u001b[1;32m---> 18\u001b[1;33m \u001b[0mparent\u001b[0m\u001b[1;33m(\u001b[0m\u001b[1;34m\"pam\"\u001b[0m\u001b[1;33m,\u001b[0m \u001b[1;34m\"bob\"\u001b[0m\u001b[1;33m)\u001b[0m\u001b[1;33m\u001b[0m\u001b[1;33m\u001b[0m\u001b[0m\n\u001b[0m\u001b[0;32m     19\u001b[0m \u001b[0mparent\u001b[0m\u001b[1;33m(\u001b[0m\u001b[1;34m\"tom\"\u001b[0m\u001b[1;33m,\u001b[0m \u001b[1;34m\"liz\"\u001b[0m\u001b[1;33m)\u001b[0m\u001b[1;33m\u001b[0m\u001b[1;33m\u001b[0m\u001b[0m\n\u001b[0;32m     20\u001b[0m \u001b[1;31m# parent(\"k\", \"liz\")\u001b[0m\u001b[1;33m\u001b[0m\u001b[1;33m\u001b[0m\u001b[1;33m\u001b[0m\u001b[0m\n",
      "\u001b[1;32m<ipython-input-11-810886a4c74e>\u001b[0m in \u001b[0;36mparent\u001b[1;34m(par, child)\u001b[0m\n\u001b[0;32m      1\u001b[0m \u001b[1;32mdef\u001b[0m \u001b[0mparent\u001b[0m\u001b[1;33m(\u001b[0m\u001b[0mpar\u001b[0m\u001b[1;33m,\u001b[0m\u001b[0mchild\u001b[0m\u001b[1;33m)\u001b[0m\u001b[1;33m:\u001b[0m\u001b[1;33m\u001b[0m\u001b[1;33m\u001b[0m\u001b[0m\n\u001b[1;32m----> 2\u001b[1;33m     \u001b[0mtree\u001b[0m\u001b[1;33m.\u001b[0m\u001b[0msetdefault\u001b[0m\u001b[1;33m(\u001b[0m\u001b[0mtree\u001b[0m\u001b[1;33m[\u001b[0m\u001b[0mpar\u001b[0m\u001b[1;33m]\u001b[0m\u001b[1;33m[\u001b[0m\u001b[1;34m\"child\"\u001b[0m\u001b[1;33m]\u001b[0m\u001b[1;33m,\u001b[0m \u001b[1;34m'Not Present'\u001b[0m\u001b[1;33m)\u001b[0m\u001b[1;33m\u001b[0m\u001b[1;33m\u001b[0m\u001b[0m\n\u001b[0m\u001b[0;32m      3\u001b[0m \u001b[1;31m#     arr = list(tree[par][\"child\"])\u001b[0m\u001b[1;33m\u001b[0m\u001b[1;33m\u001b[0m\u001b[1;33m\u001b[0m\u001b[0m\n\u001b[0;32m      4\u001b[0m \u001b[1;31m#     if(arr == 10):\u001b[0m\u001b[1;33m\u001b[0m\u001b[1;33m\u001b[0m\u001b[1;33m\u001b[0m\u001b[0m\n\u001b[0;32m      5\u001b[0m \u001b[1;31m#         print(\"Invalid input\")\u001b[0m\u001b[1;33m\u001b[0m\u001b[1;33m\u001b[0m\u001b[1;33m\u001b[0m\u001b[0m\n",
      "\u001b[1;31mTypeError\u001b[0m: unhashable type: 'list'"
     ]
    }
   ],
   "source": [
    "def parent(par,child):\n",
    "    tree.setdefault(tree[par][\"child\"], 'Not Present')\n",
    "#     arr = list(tree[par][\"child\"])\n",
    "#     if(arr == 10):\n",
    "#         print(\"Invalid input\")\n",
    "#         return\n",
    "    print(par, \":\", arr)\n",
    "    test = False\n",
    "    for ppl in arr:\n",
    "        if ppl == child:\n",
    "            test = True\n",
    "            print(par, \"is parent of\", child)\n",
    "            return\n",
    "        \n",
    "    print(par, \"is not parent of\", child)\n",
    "    \n",
    "    \n",
    "parent(\"pam\", \"bob\")\n",
    "parent(\"tom\", \"liz\")\n",
    "# parent(\"k\", \"liz\")\n",
    "parent(\"bob\", \"aim\")\n",
    "parent(\"bob\", \"pat\")\n",
    "parent(\"bob\", \"jim\")\n",
    "parent(\"tom\", \"k\")"
   ]
  },
  {
   "cell_type": "code",
   "execution_count": null,
   "metadata": {},
   "outputs": [],
   "source": []
  }
 ],
 "metadata": {
  "kernelspec": {
   "display_name": "Python 3",
   "language": "python",
   "name": "python3"
  },
  "language_info": {
   "codemirror_mode": {
    "name": "ipython",
    "version": 3
   },
   "file_extension": ".py",
   "mimetype": "text/x-python",
   "name": "python",
   "nbconvert_exporter": "python",
   "pygments_lexer": "ipython3",
   "version": "3.8.5"
  }
 },
 "nbformat": 4,
 "nbformat_minor": 5
}
