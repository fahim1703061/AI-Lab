{
 "cells": [
  {
   "cell_type": "code",
   "execution_count": 3,
   "metadata": {},
   "outputs": [
    {
     "name": "stdout",
     "output_type": "stream",
     "text": [
      "{'S': [('A', 1), ('B', 5), ('C', 8)], 'A': [], 'B': [('G', 4)], 'C': [('G', 3)], 'G': []}\n"
     ]
    }
   ],
   "source": [
    "graph = {\n",
    "    'S' : [('A',1),('B',5),('C',8)],\n",
    "    'A' : [],\n",
    "    'B' : [('G',4)],\n",
    "    'C' : [('G',3)],\n",
    "    'G' : [],\n",
    "}\n",
    "\n",
    "graph_cost = {\n",
    "    'S' : ['S', 0],\n",
    "    'A' : ['S', 0],\n",
    "    'B' : ['S', 0],\n",
    "    'C' : ['S', 0],\n",
    "    'G' : ['S', 0],\n",
    "}\n",
    "\n",
    "print(graph)"
   ]
  },
  {
   "cell_type": "code",
   "execution_count": 8,
   "metadata": {},
   "outputs": [
    {
     "name": "stdout",
     "output_type": "stream",
     "text": [
      "tested node: S C G \n",
      "Goal found\n",
      "path cost:  11\n"
     ]
    }
   ],
   "source": [
    "st = []  #stack\n",
    "\n",
    "\n",
    "def dfs(s, g):\n",
    "    \n",
    "    st.append(s)\n",
    "    print(\"tested node:\", end=\" \")\n",
    "    while len(st):\n",
    "        \n",
    "        t = st.pop()\n",
    "        print(t,end=\" \")\n",
    "        if t == g:\n",
    "            return 1\n",
    "        \n",
    "        for i in graph[t]:\n",
    "            st.append(i[0])\n",
    "            graph_cost[i[0]][0] = t  #parent\n",
    "            \n",
    "            graph_cost[i[0]][1] = graph_cost[t][1]+i[1]\n",
    "                \n",
    "    return 0\n",
    "\n",
    "\n",
    "if dfs('S','G'):\n",
    "    print(\"\")\n",
    "    print(\"Goal found\")\n",
    "    print(\"path cost: \",graph_cost['G'][1])\n",
    "    \n",
    "else:\n",
    "    print(\"Goal not found\")"
   ]
  },
  {
   "cell_type": "code",
   "execution_count": null,
   "metadata": {},
   "outputs": [],
   "source": []
  }
 ],
 "metadata": {
  "kernelspec": {
   "display_name": "Python 3",
   "language": "python",
   "name": "python3"
  },
  "language_info": {
   "codemirror_mode": {
    "name": "ipython",
    "version": 3
   },
   "file_extension": ".py",
   "mimetype": "text/x-python",
   "name": "python",
   "nbconvert_exporter": "python",
   "pygments_lexer": "ipython3",
   "version": "3.8.5"
  }
 },
 "nbformat": 4,
 "nbformat_minor": 4
}
