{
 "cells": [
  {
   "cell_type": "code",
   "execution_count": 2,
   "metadata": {},
   "outputs": [
    {
     "name": "stdout",
     "output_type": "stream",
     "text": [
      "{'S': [('A', 1), ('B', 5), ('C', 8)], 'A': [], 'B': [('G', 4)], 'C': [('G', 3)], 'G': []}\n",
      "expanded  node S B G  \n",
      "Goal found. path cost= 9\n"
     ]
    }
   ],
   "source": [
    "graph = {\n",
    "    'S' : [('A',1),('B',5),('C',8)],\n",
    "    'A' : [],\n",
    "    'B' : [('G',4)],\n",
    "    'C' : [('G',3)],\n",
    "    'G' : [],\n",
    "}\n",
    "#true cost\n",
    "h = {\n",
    "    'S' : 9,\n",
    "    'A' : 5000,\n",
    "    'B' : 4,  \n",
    "    'C' : 3,\n",
    "    'G' : 0,\n",
    "}\n",
    "\n",
    "graph_cost = {\n",
    "    'S' : ['S',0],\n",
    "    'A' : ['S',300],\n",
    "    'B' : ['S',300],\n",
    "    'C' : ['S',300],\n",
    "    'G' : ['S',300],\n",
    "}\n",
    "print(graph)\n",
    "\n",
    "\n",
    "tp = []\n",
    "\n",
    "def sortnode(node):\n",
    "    for i in range(len(node)):\n",
    "        for j in range(len(node)-i-1):\n",
    "            f_node_j = h[node[j]] + graph_cost[node[j]][1]\n",
    "            f_node_j1 = h[node[j + 1]] + graph_cost[node[j +1 ]][1]\n",
    "            if f_node_j < f_node_j1:\n",
    "                tmp = node[j]\n",
    "                node[j] = node[j + 1]\n",
    "                node[j + 1] = tmp\n",
    "                \n",
    "def astar(s,g):\n",
    "    \n",
    "    tp.append(s)\n",
    "    \n",
    "    \n",
    "    print(\"expanded  node \",end=\"\")\n",
    "    while len(tp):\n",
    "        sortnode(tp)\n",
    "#         print(tp)\n",
    "        t = tp.pop()\n",
    "        \n",
    "        print(t,end=\" \")\n",
    "        if t == g:\n",
    "            return 1\n",
    "        for i in graph[t]:\n",
    "            if graph_cost[i[0]][1] > (graph_cost[t][1] + i[1]):\n",
    "#                 print(tp)\n",
    "                graph_cost[i[0]][1] = graph_cost[t][1] + i[1]\n",
    "                graph_cost[i[0]][0] = t\n",
    "            tp.append(i[0])\n",
    "#                 print(graph_cost['G'][1])\n",
    "                \n",
    "    return 0\n",
    "\n",
    "if astar('S', 'G'):\n",
    "    print(\" \")\n",
    "    print(\"Goal found. path cost=\",graph_cost['G'][1])\n",
    "    \n",
    "else:\n",
    "    print(\"not found\")"
   ]
  },
  {
   "cell_type": "code",
   "execution_count": null,
   "metadata": {},
   "outputs": [],
   "source": []
  }
 ],
 "metadata": {
  "kernelspec": {
   "display_name": "Python 3",
   "language": "python",
   "name": "python3"
  },
  "language_info": {
   "codemirror_mode": {
    "name": "ipython",
    "version": 3
   },
   "file_extension": ".py",
   "mimetype": "text/x-python",
   "name": "python",
   "nbconvert_exporter": "python",
   "pygments_lexer": "ipython3",
   "version": "3.8.5"
  }
 },
 "nbformat": 4,
 "nbformat_minor": 4
}
